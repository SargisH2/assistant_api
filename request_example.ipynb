{
 "cells": [
  {
   "cell_type": "code",
   "execution_count": 3,
   "metadata": {},
   "outputs": [],
   "source": [
    "import requests\n",
    "import json"
   ]
  },
  {
   "cell_type": "code",
   "execution_count": 3,
   "metadata": {},
   "outputs": [],
   "source": [
    "# url = 'http://127.0.0.1:4000/gsearch/'\n",
    "# body = {\n",
    "#     # \"query\": \"since which year?\",\n",
    "#     # 'chat_id': 'thread_laI6C1HvZM6tsXhoml0bxPnG'\n",
    "# }\n",
    "\n",
    "# x = requests.post(url, json = body)\n",
    "\n",
    "# result = json.loads(x.text)\n",
    "# result"
   ]
  },
  {
   "cell_type": "code",
   "execution_count": 1,
   "metadata": {},
   "outputs": [],
   "source": []
  },
  {
   "cell_type": "code",
   "execution_count": 5,
   "metadata": {},
   "outputs": [],
   "source": [
    "# res = requests.get('')"
   ]
  },
  {
   "cell_type": "code",
   "execution_count": 6,
   "metadata": {},
   "outputs": [],
   "source": [
    "# res.text"
   ]
  },
  {
   "cell_type": "code",
   "execution_count": 8,
   "metadata": {},
   "outputs": [],
   "source": [
    "# with open(\"C:\\Users\\Lenovo\\Desktop\\example.html\", 'w') as file:\n",
    "#     file.write(res.text)"
   ]
  },
  {
   "cell_type": "code",
   "execution_count": null,
   "metadata": {},
   "outputs": [],
   "source": []
  },
  {
   "cell_type": "code",
   "execution_count": null,
   "metadata": {},
   "outputs": [],
   "source": []
  },
  {
   "cell_type": "code",
   "execution_count": null,
   "metadata": {},
   "outputs": [],
   "source": []
  },
  {
   "cell_type": "code",
   "execution_count": null,
   "metadata": {},
   "outputs": [],
   "source": []
  },
  {
   "cell_type": "code",
   "execution_count": 5,
   "metadata": {},
   "outputs": [
    {
     "data": {
      "text/plain": [
       "{'id': 'thread_3jBqs7adDxkOgYbjDl33gtmv',\n",
       " 'chat': {'user': 'I want to watch football. what matches are there next weekend?',\n",
       "  'assistant': \"I found a few sources that list football matches for the next weekend. The matches listed include fixtures for different leagues and tournaments. Here are some sources you can check:\\n\\n1. [The Guardian - Football Fixtures](https://www.theguardian.com/football/fixtures)\\n2. [The Guardian - Premier League Fixtures](https://www.theguardian.com/football/premierleague/fixtures)\\n3. [Sky Sports - Football Fixtures](https://www.skysports.com/football-fixtures)\\n4. [FootyStats - This Weekend's Football Fixtures](https://footystats.org/weekend/)\\n\\nYou can visit these websites to get the complete list of football matches scheduled for the next weekend.\"}}"
      ]
     },
     "execution_count": 5,
     "metadata": {},
     "output_type": "execute_result"
    }
   ],
   "source": [
    "import requests\n",
    "import json\n",
    "\n",
    "url = 'https://apiassistant.azurewebsites.net/gsearch/'\n",
    "body = {\n",
    "    \"query\": \"I want to watch football. what matches are there next weekend?\",\n",
    "    'chat_id': ''\n",
    "}\n",
    "\n",
    "x = requests.post(url, json = body)\n",
    "\n",
    "result = json.loads(x.text)\n",
    "result"
   ]
  },
  {
   "cell_type": "code",
   "execution_count": 6,
   "metadata": {},
   "outputs": [
    {
     "data": {
      "text/plain": [
       "{'id': 'thread_4ZlI5nT9AASBbwqNZi1ky8yn',\n",
       " 'chat': {'user': 'What news today from OpenAI?',\n",
       "  'assistant': 'There is a lot of recent news about OpenAI. Sam Altman has been reinstated as OpenAI CEO with a new board. This news has garnered much attention and has been reported by several news sources, including Bloomberg, NBC News, CNN, NPR, and others. It seems that there has been some internal turmoil at OpenAI, leading to significant changes at the company. If you would like to read more about this news, I can provide you with specific articles and sources.'}}"
      ]
     },
     "execution_count": 6,
     "metadata": {},
     "output_type": "execute_result"
    }
   ],
   "source": [
    "body = {\n",
    "    \"query\": \"What news today from OpenAI?\",\n",
    "    'chat_id': ''\n",
    "}\n",
    "\n",
    "x = requests.post(url, json = body)\n",
    "\n",
    "result = json.loads(x.text)\n",
    "result"
   ]
  },
  {
   "cell_type": "code",
   "execution_count": 7,
   "metadata": {},
   "outputs": [
    {
     "data": {
      "text/plain": [
       "{'id': 'thread_4ZlI5nT9AASBbwqNZi1ky8yn',\n",
       " 'chat': {'user': 'give me an article, I want to read about Sam',\n",
       "  'assistant': \"Here is an article about Sam Altman's reinstatement as OpenAI's Chief Executive:\\n\\nTitle: [Sam Altman Is Reinstated as OpenAI's Chief Executive](https://www.nytimes.com/2023/11/22/technology/openai-sam-altman-returns.html)\\nSource: The New York Times\\nDate: 2 hours ago\\n\\nYou can read the full article by following the provided link.\"}}"
      ]
     },
     "execution_count": 7,
     "metadata": {},
     "output_type": "execute_result"
    }
   ],
   "source": [
    "body = {\n",
    "    \"query\": \"give me an article, I want to read about Sam\",\n",
    "    'chat_id': 'thread_4ZlI5nT9AASBbwqNZi1ky8yn'\n",
    "}\n",
    "\n",
    "x = requests.post(url, json = body)\n",
    "\n",
    "json.loads(x.text)"
   ]
  },
  {
   "cell_type": "code",
   "execution_count": null,
   "metadata": {},
   "outputs": [],
   "source": []
  }
 ],
 "metadata": {
  "kernelspec": {
   "display_name": "Python 3",
   "language": "python",
   "name": "python3"
  },
  "language_info": {
   "codemirror_mode": {
    "name": "ipython",
    "version": 3
   },
   "file_extension": ".py",
   "mimetype": "text/x-python",
   "name": "python",
   "nbconvert_exporter": "python",
   "pygments_lexer": "ipython3",
   "version": "3.10.10"
  }
 },
 "nbformat": 4,
 "nbformat_minor": 2
}
