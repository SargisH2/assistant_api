{
 "cells": [
  {
   "cell_type": "code",
   "execution_count": 2,
   "metadata": {},
   "outputs": [],
   "source": [
    "import requests\n",
    "import json"
   ]
  },
  {
   "cell_type": "code",
   "execution_count": 3,
   "metadata": {},
   "outputs": [],
   "source": [
    "# url = 'http://127.0.0.1:4000/gsearch/'\n",
    "# body = {\n",
    "#     # \"query\": \"since which year?\",\n",
    "#     # 'chat_id': 'thread_laI6C1HvZM6tsXhoml0bxPnG'\n",
    "# }\n",
    "\n",
    "# x = requests.post(url, json = body)\n",
    "\n",
    "# result = json.loads(x.text)\n",
    "# result"
   ]
  },
  {
   "cell_type": "code",
   "execution_count": 1,
   "metadata": {},
   "outputs": [],
   "source": []
  },
  {
   "cell_type": "code",
   "execution_count": 5,
   "metadata": {},
   "outputs": [],
   "source": [
    "# res = requests.get('')"
   ]
  },
  {
   "cell_type": "code",
   "execution_count": 6,
   "metadata": {},
   "outputs": [],
   "source": [
    "# res.text"
   ]
  },
  {
   "cell_type": "code",
   "execution_count": 8,
   "metadata": {},
   "outputs": [],
   "source": [
    "# with open(\"C:\\Users\\Lenovo\\Desktop\\example.html\", 'w') as file:\n",
    "#     file.write(res.text)"
   ]
  },
  {
   "cell_type": "code",
   "execution_count": null,
   "metadata": {},
   "outputs": [],
   "source": []
  },
  {
   "cell_type": "code",
   "execution_count": null,
   "metadata": {},
   "outputs": [],
   "source": []
  },
  {
   "cell_type": "code",
   "execution_count": null,
   "metadata": {},
   "outputs": [],
   "source": []
  },
  {
   "cell_type": "code",
   "execution_count": null,
   "metadata": {},
   "outputs": [],
   "source": []
  },
  {
   "cell_type": "code",
   "execution_count": 8,
   "metadata": {},
   "outputs": [
    {
     "data": {
      "text/plain": [
       "{'id': 'thread_7gg7LBdzhsYpvv0SC3NQmD9P',\n",
       " 'chat': {'user': 'Who is Messi?',\n",
       "  'assistant': 'Lionel Messi is an Argentine soccer player known for his incredible skill and talent on the field. He has achieved numerous accolades and is widely regarded as one of the greatest footballers of all time. Messi has played for several clubs throughout his career, including FC Barcelona and Paris Saint-Germain (PSG). He has also represented the Argentina national team in international competitions.\\n\\nIf you would like to know more details or specific information about Messi, feel free to ask!'}}"
      ]
     },
     "execution_count": 8,
     "metadata": {},
     "output_type": "execute_result"
    }
   ],
   "source": [
    "# url = 'http://127.0.0.1:4000/gsearch/'\n",
    "url = ''\n",
    "body = {\n",
    "    \"query\": \"Who is Messi?\",\n",
    "    'chat_id': ''\n",
    "}\n",
    "\n",
    "x = requests.post(url, json = body)\n",
    "\n",
    "result = json.loads(x.text)\n",
    "result"
   ]
  },
  {
   "cell_type": "code",
   "execution_count": 9,
   "metadata": {},
   "outputs": [
    {
     "data": {
      "text/plain": [
       "{'id': 'thread_7gg7LBdzhsYpvv0SC3NQmD9P',\n",
       " 'chat': {'user': 'how old is he now?',\n",
       "  'assistant': 'Lionel Messi was born on June 24, 1987, and is currently 36 years old.'}}"
      ]
     },
     "execution_count": 9,
     "metadata": {},
     "output_type": "execute_result"
    }
   ],
   "source": [
    "body = {\n",
    "    \"query\": \"how old is he now?\",\n",
    "    'chat_id': 'thread_7gg7LBdzhsYpvv0SC3NQmD9P'\n",
    "}\n",
    "\n",
    "x = requests.post(url, json = body)\n",
    "\n",
    "json.loads(x.text)"
   ]
  },
  {
   "cell_type": "code",
   "execution_count": null,
   "metadata": {},
   "outputs": [],
   "source": []
  }
 ],
 "metadata": {
  "kernelspec": {
   "display_name": "Python 3",
   "language": "python",
   "name": "python3"
  },
  "language_info": {
   "codemirror_mode": {
    "name": "ipython",
    "version": 3
   },
   "file_extension": ".py",
   "mimetype": "text/x-python",
   "name": "python",
   "nbconvert_exporter": "python",
   "pygments_lexer": "ipython3",
   "version": "3.10.10"
  }
 },
 "nbformat": 4,
 "nbformat_minor": 2
}
